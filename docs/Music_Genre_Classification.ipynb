{
  "nbformat": 4,
  "nbformat_minor": 0,
  "metadata": {
    "kernelspec": {
      "display_name": "Python 3",
      "language": "python",
      "name": "python3"
    },
    "language_info": {
      "codemirror_mode": {
        "name": "ipython",
        "version": 3
      },
      "file_extension": ".py",
      "mimetype": "text/x-python",
      "name": "python",
      "nbconvert_exporter": "python",
      "pygments_lexer": "ipython3",
      "version": "3.6.3"
    },
    "colab": {
      "name": "Music Genre Classification.ipynb",
      "provenance": [],
      "collapsed_sections": []
    },
    "accelerator": "GPU"
  },
  "cells": [
    {
      "cell_type": "code",
      "metadata": {
        "id": "EEX_PUPCBSZA"
      },
      "source": [
        "import pandas as pd\n",
        "import numpy as np\n",
        "import os\n",
        "import pathlib\n",
        "import tensorflow\n",
        "from tensorflow.keras.models import Sequential\n",
        "from tensorflow.keras.layers import Dense, Dropout, Conv2D, MaxPooling2D, Flatten\n",
        "from tensorflow.keras.optimizers import RMSprop"
      ],
      "execution_count": 1,
      "outputs": []
    },
    {
      "cell_type": "markdown",
      "metadata": {
        "id": "3dDo6EfhkEnJ"
      },
      "source": [
        "\n",
        "GTZAN dataset consists of 10 genres\n",
        "\n",
        "Blues\n",
        "Classical\n",
        "Country\n",
        "Disco\n",
        "Hiphop\n",
        "Jazz\n",
        "Metal\n",
        "Pop\n",
        "Reggae\n",
        "Rock\n",
        "Each genre contains 100 songs. Total dataset: 1000 songs\n",
        "\n",
        "We will only be using the spectrogram png files for this prototype"
      ]
    },
    {
      "cell_type": "code",
      "metadata": {
        "id": "4BWpDkhwoV7i",
        "outputId": "7dfaca38-12bc-4196-f6a4-3adaf1f49c32",
        "colab": {
          "base_uri": "https://localhost:8080/",
          "height": 35
        }
      },
      "source": [
        "#uncomment and run this cell this if you, like me, uploaded the data files to g-drive\n",
        "'''\n",
        "from google.colab import drive\n",
        "drive.mount('/content/drive')\n",
        "'''"
      ],
      "execution_count": 2,
      "outputs": [
        {
          "output_type": "stream",
          "text": [
            "Mounted at /content/drive\n"
          ],
          "name": "stdout"
        }
      ]
    },
    {
      "cell_type": "markdown",
      "metadata": {
        "id": "MmQrp-cwApRM"
      },
      "source": [
        "First, we need to retrieve the spectrogram files and convert them into a format readable by keras. Depending on how tempermental g-drive is, this could take a while\n",
        "\n",
        "Confirm that the folder hierarchy looks like:\n",
        "\n",
        "\n",
        "*   Genre 1\n",
        "  *   Image File\n",
        "  *   Image File\n",
        "  *   Image File\n",
        "  *   ...\n",
        "\n",
        "\n",
        "*   Genre 2\n",
        "  *   Image File\n",
        "  *   Image File\n",
        "  *   Image File\n",
        "  *   ...\n",
        "\n",
        "\n",
        "\n",
        "\n"
      ]
    },
    {
      "cell_type": "code",
      "metadata": {
        "id": "yFTWhTByBSZI"
      },
      "source": [
        "import os\n",
        "from PIL import Image\n",
        "\n",
        "#change this line to whatever directory the GTZAN spectogram images are located\n",
        "rootdir = '/content/drive/My Drive/Data/images_original'\n",
        "\n",
        "#using python list data structure temporarily for efficiency and utility\n",
        "labels = []\n",
        "images = []\n",
        "\n",
        "# iterating through each genre folder, append that folder name to the labels list, \n",
        "# then we converty the png into a numpy array and append that to images.\n",
        "# for somereason this process extracts 4 color layers when there should only be 3.\n",
        "for subdir, dirs, files in os.walk(rootdir):\n",
        "    for file in files:\n",
        "        labels.append(os.path.basename(subdir))\n",
        "        img = Image.open(os.path.join(subdir, file))\n",
        "        images.append(np.array(img))"
      ],
      "execution_count": 3,
      "outputs": []
    },
    {
      "cell_type": "code",
      "metadata": {
        "id": "0PF43V4uH5L6",
        "outputId": "46348528-9b6d-4699-d3bd-23b8c9cf478a",
        "colab": {
          "base_uri": "https://localhost:8080/",
          "height": 197
        }
      },
      "source": [
        "labels[::100]"
      ],
      "execution_count": 4,
      "outputs": [
        {
          "output_type": "execute_result",
          "data": {
            "text/plain": [
              "['metal',\n",
              " 'hiphop',\n",
              " 'country',\n",
              " 'jazz',\n",
              " 'pop',\n",
              " 'disco',\n",
              " 'blues',\n",
              " 'classical',\n",
              " 'reggae',\n",
              " 'rock']"
            ]
          },
          "metadata": {
            "tags": []
          },
          "execution_count": 4
        }
      ]
    },
    {
      "cell_type": "code",
      "metadata": {
        "id": "OMELtXETH4Wj"
      },
      "source": [
        "#converting our python lists to numpy arrays\n",
        "labels = np.array(labels)\n",
        "images = np.array(images)"
      ],
      "execution_count": 5,
      "outputs": []
    },
    {
      "cell_type": "markdown",
      "metadata": {
        "id": "vR1RGVGmCFm2"
      },
      "source": [
        "Now we need to encode the labels to ints in alphabetacal order so we can use keras.utils.to_categorical later.\n"
      ]
    },
    {
      "cell_type": "code",
      "metadata": {
        "id": "Bz2kIkz16U2M"
      },
      "source": [
        "from sklearn.preprocessing import LabelEncoder\n",
        "\n",
        "le = LabelEncoder()\n",
        "le.fit(['blues', 'classical', 'country', 'disco', 'hiphop', 'jazz', 'metal', 'pop', 'reggae', 'rock'])\n",
        "labels = le.transform(labels)\n",
        "\n"
      ],
      "execution_count": 6,
      "outputs": []
    },
    {
      "cell_type": "code",
      "metadata": {
        "id": "iSd-LXLSHuRw",
        "outputId": "500b8dfb-a601-4a25-e88b-a284cad12914",
        "colab": {
          "base_uri": "https://localhost:8080/",
          "height": 35
        }
      },
      "source": [
        "labels[::100]"
      ],
      "execution_count": 7,
      "outputs": [
        {
          "output_type": "execute_result",
          "data": {
            "text/plain": [
              "array([6, 4, 2, 5, 7, 3, 0, 1, 8, 9])"
            ]
          },
          "metadata": {
            "tags": []
          },
          "execution_count": 7
        }
      ]
    },
    {
      "cell_type": "markdown",
      "metadata": {
        "id": "ChhTdcfYGBOK"
      },
      "source": [
        "Leveraging sklearn's library for creating a train test split of our two numpy arrays. I currently have a 80-20 split for train-test. Eventually we will wank to implement k-fold cross validation.\n",
        "\n"
      ]
    },
    {
      "cell_type": "code",
      "metadata": {
        "id": "P7BS3iTD7nXv"
      },
      "source": [
        "from sklearn.model_selection import train_test_split\n",
        "\n",
        "train_labels, test_labels, train_images, test_images = train_test_split(labels, images, test_size = .2, random_state = 42)"
      ],
      "execution_count": 8,
      "outputs": []
    },
    {
      "cell_type": "code",
      "metadata": {
        "id": "jc1-_WfoJSa4",
        "outputId": "60564439-afc3-40ad-b69a-9bc3f245070c",
        "colab": {
          "base_uri": "https://localhost:8080/",
          "height": 35
        }
      },
      "source": [
        "# 4 color chanels. idk.\n",
        "train_images.shape"
      ],
      "execution_count": 9,
      "outputs": [
        {
          "output_type": "execute_result",
          "data": {
            "text/plain": [
              "(799, 288, 432, 4)"
            ]
          },
          "metadata": {
            "tags": []
          },
          "execution_count": 9
        }
      ]
    },
    {
      "cell_type": "code",
      "metadata": {
        "id": "N_5X20eoiryg"
      },
      "source": [
        "#this cell is a version-protection process i found online to check sure that the \n",
        "#(color) channel data should be first or last dimension in out tensor\n",
        "from tensorflow.keras import backend as K\n",
        "\n",
        "if K.image_data_format() == 'channels_first':\n",
        "    train_images = train_images.reshape(train_images.shape[0], 4, 432, 288)\n",
        "    test_images = test_images.reshape(test_images.shape[0], 4, 432, 288)\n",
        "    input_shape = (4, 432, 288)\n",
        "else:\n",
        "    train_images = train_images.reshape(train_images.shape[0], 432, 288, 4)\n",
        "    test_images = test_images.reshape(test_images.shape[0], 432, 288, 4)\n",
        "    input_shape = (432, 288, 4)\n",
        "    \n",
        "train_images = train_images.astype('float32')\n",
        "test_images = test_images.astype('float32')\n",
        "train_images /= 255\n",
        "test_images /= 255"
      ],
      "execution_count": 10,
      "outputs": []
    },
    {
      "cell_type": "markdown",
      "metadata": {
        "id": "twJ9aHZQ453G"
      },
      "source": [
        "Now we do the keras equivalent of one-how-encoding and convert our labels to catigorical martixes using to_categorical\n"
      ]
    },
    {
      "cell_type": "code",
      "metadata": {
        "id": "b-i-nju645N1"
      },
      "source": [
        "train_labels = tensorflow.keras.utils.to_categorical(train_labels, 10)\n",
        "test_labels = tensorflow.keras.utils.to_categorical(test_labels, 10)"
      ],
      "execution_count": 11,
      "outputs": []
    },
    {
      "cell_type": "markdown",
      "metadata": {
        "id": "uoW2Z_My5XiT"
      },
      "source": [
        "double check and make sure our input data look like it should...."
      ]
    },
    {
      "cell_type": "code",
      "metadata": {
        "id": "olv5W_i-5gAr",
        "outputId": "75e4c4f6-ad9b-43fa-d3e6-1adb324153a0",
        "colab": {
          "base_uri": "https://localhost:8080/",
          "height": 299
        }
      },
      "source": [
        "import matplotlib.pyplot as plt\n",
        "\n",
        "def display_sample(num):\n",
        "    #Print the one-hot array of this sample's label \n",
        "    print(train_labels[num])  \n",
        "    #Print the label converted back to a number\n",
        "    label = train_labels[num].argmax(axis=0)\n",
        "    #Reshape the lots of values to a 423x288 image\n",
        "    image = train_images[num].reshape([288, 432, 4])\n",
        "    plt.title('Sample: %d  Label: %d' % (num, label))\n",
        "    plt.imshow(image, cmap=plt.get_cmap('gray_r'))\n",
        "    plt.show()\n",
        "    \n",
        "display_sample(123)"
      ],
      "execution_count": 12,
      "outputs": [
        {
          "output_type": "stream",
          "text": [
            "[0. 1. 0. 0. 0. 0. 0. 0. 0. 0.]\n"
          ],
          "name": "stdout"
        },
        {
          "output_type": "display_data",
          "data": {
            "image/png": "[encoded data removed]",
            "text/plain": [
              "<Figure size 432x288 with 1 Axes>"
            ]
          },
          "metadata": {
            "tags": [],
            "needs_background": "light"
          }
        }
      ]
    },
    {
      "cell_type": "markdown",
      "metadata": {
        "id": "ilMkJZi9JaJK"
      },
      "source": [
        "Model time...\n",
        "\n",
        "CNNs have so many layers... Some things I have tried so far:\n",
        "\n",
        "\n",
        "*   Added additional dense layers for deeper learning\n",
        "*   Added additional Conv2d layers for deeper convolution (I think this is a variable we will really need to dial in for consistant results)\n",
        "*   increase the pool_size of the Max Pooling layer\n",
        "\n"
      ]
    },
    {
      "cell_type": "code",
      "metadata": {
        "id": "JsqEba9aCl2e"
      },
      "source": [
        "model = Sequential()\n",
        "model.add(Conv2D(32, kernel_size=(3, 3),\n",
        "                 activation='relu',\n",
        "                 input_shape=input_shape))\n",
        "# 64 3x3 kernels\n",
        "model.add(Conv2D(64, (3, 3), activation='relu'))\n",
        "# Reduce by taking the max of each 2x2 block, I see this in most SNN models, but\n",
        "#believe it just speeds up training a bit. \n",
        "model.add(MaxPooling2D(pool_size=(2, 2)))\n",
        "# Dropout to avoid overfitting\n",
        "model.add(Dropout(0.1))\n",
        "# Flatten the results to one dimension for passing into our final layer\n",
        "model.add(Flatten())\n",
        "# A hidden layer to learn with\n",
        "model.add(Dense(128, activation='relu'))\n",
        "# Another dropout\n",
        "model.add(Dropout(0.25))\n",
        "# Final categorization from 0-9 with softmax\n",
        "model.add(Dense(10, activation='softmax'))"
      ],
      "execution_count": 13,
      "outputs": []
    },
    {
      "cell_type": "code",
      "metadata": {
        "id": "6Rk1T9CTNKap",
        "outputId": "77d33d94-d2b7-42cc-81b2-c56fb866aae7",
        "colab": {
          "base_uri": "https://localhost:8080/",
          "height": 449
        }
      },
      "source": [
        "model.summary()"
      ],
      "execution_count": 14,
      "outputs": [
        {
          "output_type": "stream",
          "text": [
            "Model: \"sequential\"\n",
            "_________________________________________________________________\n",
            "Layer (type)                 Output Shape              Param #   \n",
            "=================================================================\n",
            "conv2d (Conv2D)              (None, 430, 286, 32)      1184      \n",
            "_________________________________________________________________\n",
            "conv2d_1 (Conv2D)            (None, 428, 284, 64)      18496     \n",
            "_________________________________________________________________\n",
            "max_pooling2d (MaxPooling2D) (None, 214, 142, 64)      0         \n",
            "_________________________________________________________________\n",
            "dropout (Dropout)            (None, 214, 142, 64)      0         \n",
            "_________________________________________________________________\n",
            "flatten (Flatten)            (None, 1944832)           0         \n",
            "_________________________________________________________________\n",
            "dense (Dense)                (None, 128)               248938624 \n",
            "_________________________________________________________________\n",
            "dropout_1 (Dropout)          (None, 128)               0         \n",
            "_________________________________________________________________\n",
            "dense_1 (Dense)              (None, 10)                1290      \n",
            "=================================================================\n",
            "Total params: 248,959,594\n",
            "Trainable params: 248,959,594\n",
            "Non-trainable params: 0\n",
            "_________________________________________________________________\n"
          ],
          "name": "stdout"
        }
      ]
    },
    {
      "cell_type": "markdown",
      "metadata": {
        "id": "QzQW-62nMVXO"
      },
      "source": [
        "The rest is mosly boilerplate from keras and tensorflow documentation sites."
      ]
    },
    {
      "cell_type": "code",
      "metadata": {
        "id": "VCngEFndOo7y"
      },
      "source": [
        "model.compile(loss='categorical_crossentropy',\n",
        "              optimizer='adam',\n",
        "              metrics=['accuracy'])"
      ],
      "execution_count": 15,
      "outputs": []
    },
    {
      "cell_type": "markdown",
      "metadata": {
        "id": "U3mk6LQBNK47"
      },
      "source": [
        "#Hold up.\n",
        "This is going to take a LOOOONG time without CUDA support. Potentially multiple hours. If you have a nvidia GPU on your machine, make sure that you have a GPU enabled runtime. In google collab this is done by toolbar > runtime > change runtime type > GPU."
      ]
    },
    {
      "cell_type": "code",
      "metadata": {
        "id": "Z6mwH68qQL0c",
        "outputId": "bd24f4c3-0386-453f-c898-931a2644ff39",
        "colab": {
          "base_uri": "https://localhost:8080/",
          "height": 775
        }
      },
      "source": [
        "history = model.fit(train_images, train_labels,\n",
        "                    batch_size=32,\n",
        "                    epochs=20,\n",
        "                    verbose=2,\n",
        "                    validation_data=(test_images, test_labels))"
      ],
      "execution_count": 16,
      "outputs": [
        {
          "output_type": "stream",
          "text": [
            "Epoch 1/20\n",
            "WARNING:tensorflow:Callbacks method `on_train_batch_end` is slow compared to the batch time (batch time: 0.0995s vs `on_train_batch_end` time: 0.1815s). Check your callbacks.\n",
            "25/25 - 8s - loss: 42.9460 - accuracy: 0.1139 - val_loss: 2.3020 - val_accuracy: 0.1600\n",
            "Epoch 2/20\n",
            "25/25 - 7s - loss: 2.3027 - accuracy: 0.1001 - val_loss: 2.3028 - val_accuracy: 0.1050\n",
            "Epoch 3/20\n",
            "25/25 - 7s - loss: 2.3025 - accuracy: 0.0989 - val_loss: 2.3033 - val_accuracy: 0.1150\n",
            "Epoch 4/20\n",
            "25/25 - 7s - loss: 2.3009 - accuracy: 0.1314 - val_loss: 2.2941 - val_accuracy: 0.1000\n",
            "Epoch 5/20\n",
            "25/25 - 7s - loss: 2.2564 - accuracy: 0.1552 - val_loss: 2.1572 - val_accuracy: 0.1850\n",
            "Epoch 6/20\n",
            "25/25 - 7s - loss: 1.9653 - accuracy: 0.3154 - val_loss: 2.0426 - val_accuracy: 0.2700\n",
            "Epoch 7/20\n",
            "25/25 - 7s - loss: 1.7435 - accuracy: 0.3780 - val_loss: 1.8340 - val_accuracy: 0.4050\n",
            "Epoch 8/20\n",
            "25/25 - 7s - loss: 1.5331 - accuracy: 0.4668 - val_loss: 1.7469 - val_accuracy: 0.3950\n",
            "Epoch 9/20\n",
            "25/25 - 8s - loss: 1.3701 - accuracy: 0.5369 - val_loss: 1.6726 - val_accuracy: 0.4450\n",
            "Epoch 10/20\n",
            "25/25 - 8s - loss: 1.1404 - accuracy: 0.6195 - val_loss: 1.5912 - val_accuracy: 0.4450\n",
            "Epoch 11/20\n",
            "25/25 - 8s - loss: 1.0170 - accuracy: 0.6996 - val_loss: 1.6496 - val_accuracy: 0.4400\n",
            "Epoch 12/20\n",
            "25/25 - 8s - loss: 0.8057 - accuracy: 0.7409 - val_loss: 1.5574 - val_accuracy: 0.4700\n",
            "Epoch 13/20\n",
            "25/25 - 8s - loss: 0.6662 - accuracy: 0.7872 - val_loss: 1.4987 - val_accuracy: 0.4600\n",
            "Epoch 14/20\n",
            "25/25 - 8s - loss: 0.5515 - accuracy: 0.8298 - val_loss: 1.5048 - val_accuracy: 0.4650\n",
            "Epoch 15/20\n",
            "25/25 - 8s - loss: 0.4305 - accuracy: 0.8824 - val_loss: 1.4578 - val_accuracy: 0.4800\n",
            "Epoch 16/20\n",
            "25/25 - 8s - loss: 0.3529 - accuracy: 0.9049 - val_loss: 1.5997 - val_accuracy: 0.4800\n",
            "Epoch 17/20\n",
            "25/25 - 8s - loss: 0.2993 - accuracy: 0.9099 - val_loss: 1.6256 - val_accuracy: 0.4950\n",
            "Epoch 18/20\n",
            "25/25 - 8s - loss: 0.2052 - accuracy: 0.9437 - val_loss: 1.6487 - val_accuracy: 0.5050\n",
            "Epoch 19/20\n",
            "25/25 - 8s - loss: 0.1590 - accuracy: 0.9562 - val_loss: 1.6645 - val_accuracy: 0.5200\n",
            "Epoch 20/20\n",
            "25/25 - 8s - loss: 0.1357 - accuracy: 0.9625 - val_loss: 1.8855 - val_accuracy: 0.4800\n"
          ],
          "name": "stdout"
        }
      ]
    },
    {
      "cell_type": "code",
      "metadata": {
        "id": "gM0I2khQNLXV",
        "outputId": "fa22195a-7385-4cf4-d7ca-8f606fd9462c",
        "colab": {
          "base_uri": "https://localhost:8080/",
          "height": 53
        }
      },
      "source": [
        "score = model.evaluate(test_images, test_labels, verbose=0)\n",
        "print('Test loss:', score[0])\n",
        "print('Test accuracy:', score[1])"
      ],
      "execution_count": 18,
      "outputs": [
        {
          "output_type": "stream",
          "text": [
            "Test loss: 1.8854975700378418\n",
            "Test accuracy: 0.47999998927116394\n"
          ],
          "name": "stdout"
        }
      ]
    },
    {
      "cell_type": "markdown",
      "metadata": {
        "id": "vivYpeT_MjrK"
      },
      "source": [
        "The results are.... inconsistant. I have seen accuracies from well below average (0.07) to pretty good (0.5). This leads me to believe that some hyperparameter tuning and a MUCH larger dataset would yield better accuracy. It is also possible CNNs are not the way to go and that we should shift our focus to feature extraction."
      ]
    },
    {
      "cell_type": "code",
      "metadata": {
        "id": "ZEAeKUp3Tk0j"
      },
      "source": [
        ""
      ],
      "execution_count": null,
      "outputs": []
    }
  ]
}